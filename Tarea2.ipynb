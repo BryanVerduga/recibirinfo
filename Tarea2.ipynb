{
  "nbformat": 4,
  "nbformat_minor": 0,
  "metadata": {
    "colab": {
      "provenance": [],
      "authorship_tag": "ABX9TyPmM7K9mVu5Z71AH4fig57r",
      "include_colab_link": true
    },
    "kernelspec": {
      "name": "python3",
      "display_name": "Python 3"
    },
    "language_info": {
      "name": "python"
    }
  },
  "cells": [
    {
      "cell_type": "markdown",
      "metadata": {
        "id": "view-in-github",
        "colab_type": "text"
      },
      "source": [
        "<a href=\"https://colab.research.google.com/github/BryanVerduga/recibirinfo/blob/main/Tarea2.ipynb\" target=\"_parent\"><img src=\"https://colab.research.google.com/assets/colab-badge.svg\" alt=\"Open In Colab\"/></a>"
      ]
    },
    {
      "cell_type": "markdown",
      "source": [
        "##Tarea2\n"
      ],
      "metadata": {
        "id": "4wBt5iqQ406s"
      }
    },
    {
      "cell_type": "markdown",
      "source": [
        "Crea una matriz de calificaciones de 5x5 con datos generados aleatoriamente. Luego, utiliza la función mean() para calcular la calificación media de cada usuario."
      ],
      "metadata": {
        "id": "wcULi0xT9HpK"
      }
    },
    {
      "cell_type": "code",
      "source": [
        "import numpy as np\n",
        "\n",
        "#crear matriz de calificaciones de 5x5 con datos aleatorios entre 1 y 5\n",
        "calificaciones = np.random.randint(1, 6, size=(5, 5))\n",
        "#guardar matriz en archivo\n",
        "np.save('matriz_calificaciones.npy', calificaciones) #guardamos para usar en ejercicio 3\n",
        "\n",
        "print(\"Matriz de calificaciones:\")\n",
        "print(calificaciones)\n",
        "\n",
        "#calcular la calificación media de cada usuario (filas)\n",
        "calificacion_media_por_usuario = np.mean(calificaciones, axis=1)\n",
        "\n",
        "print(\"\\nCalificación media por usuario:\")\n",
        "print(calificacion_media_por_usuario)"
      ],
      "metadata": {
        "id": "1acRxC2t42T0",
        "colab": {
          "base_uri": "https://localhost:8080/"
        },
        "outputId": "7ff5b674-d7ed-4d8d-bebb-b67005816fb9"
      },
      "execution_count": 5,
      "outputs": [
        {
          "output_type": "stream",
          "name": "stdout",
          "text": [
            "Matriz de calificaciones:\n",
            "[[3 4 1 5 5]\n",
            " [4 4 4 3 4]\n",
            " [5 1 3 2 4]\n",
            " [2 3 5 2 4]\n",
            " [2 5 2 2 4]]\n",
            "\n",
            "Calificación media por usuario:\n",
            "[3.6 3.8 3.  3.2 3. ]\n"
          ]
        }
      ]
    },
    {
      "cell_type": "markdown",
      "source": [
        "Implementa el algoritmo de los N-primeros. Dada una matriz de calificaciones y un número N, tu función debe devolver los N primeros elementos recomendados para cada usuario."
      ],
      "metadata": {
        "id": "gw09dbXe9RzD"
      }
    },
    {
      "cell_type": "code",
      "source": [
        "import numpy as np\n",
        "\n",
        "def recomendar_N_primeros(calificaciones, N):\n",
        "    #calcular la calificación media de cada usuario (filas)\n",
        "    calificacion_media_por_usuario = np.mean(calificaciones, axis=1)\n",
        "\n",
        "    #obtener los índices de los N primeros elementos recomendados para cada usuario\n",
        "    indices_recomendados = np.argsort(calificacion_media_por_usuario)[::-1][:N]\n",
        "\n",
        "    #devolver los N primeros elementos recomendados para cada usuario\n",
        "    recomendados_por_usuario = []\n",
        "    for usuario in range(len(calificaciones)):\n",
        "        recomendados_por_usuario.append(indices_recomendados)\n",
        "\n",
        "    return recomendados_por_usuario\n",
        "\n",
        "#ejemplo de uso\n",
        "calificaciones = np.array([\n",
        "    [5, 3, 2, 4, 1],\n",
        "    [1, 2, 3, 4, 5],\n",
        "    [3, 4, 2, 1, 5],\n",
        "    [4, 2, 1, 3, 5],\n",
        "    [2, 4, 5, 3, 1]\n",
        "])\n",
        "\n",
        "N = 3  #número de elementos a recomendar por usuario\n",
        "\n",
        "recomendaciones = recomendar_N_primeros(calificaciones, N)\n",
        "\n",
        "print(\"Recomendaciones:\")\n",
        "for usuario, recomendados in enumerate(recomendaciones):\n",
        "    print(f\"Usuario {usuario + 1}: {recomendados}\")\n"
      ],
      "metadata": {
        "id": "pgpK6sU44219",
        "colab": {
          "base_uri": "https://localhost:8080/"
        },
        "outputId": "de4a5477-f5b1-4fe1-8fac-19f210d226c9"
      },
      "execution_count": 6,
      "outputs": [
        {
          "output_type": "stream",
          "name": "stdout",
          "text": [
            "Recomendaciones:\n",
            "Usuario 1: [4 3 2]\n",
            "Usuario 2: [4 3 2]\n",
            "Usuario 3: [4 3 2]\n",
            "Usuario 4: [4 3 2]\n",
            "Usuario 5: [4 3 2]\n"
          ]
        }
      ]
    },
    {
      "cell_type": "markdown",
      "source": [
        "Utiliza la descomposición en valores singulares (SVD) para hacer recomendaciones basadas en la matriz de calificaciones que creaste en el Ejercicio 1. Compara los resultados con los obtenidos en el Ejercicio 2."
      ],
      "metadata": {
        "id": "np__TmFP9SQJ"
      }
    },
    {
      "cell_type": "code",
      "source": [
        "import numpy as np\n",
        "\n",
        "#cargar matriz desde archivo\n",
        "calificaciones = np.load('matriz_calificaciones.npy')\n",
        "\n",
        "def recomendaciones_svd(matriz_calificaciones, n):\n",
        "    #realizar descomposición en valores singulares (SVD)\n",
        "    U, sigma, Vt = np.linalg.svd(matriz_calificaciones)\n",
        "    \n",
        "    #obtener la matriz de calificaciones reconstruida\n",
        "    matriz_reconstruida = U.dot(np.diag(sigma)).dot(Vt)\n",
        "    \n",
        "    #obtener las recomendaciones para cada usuario\n",
        "    recomendaciones = []\n",
        "    for i in range(matriz_calificaciones.shape[0]):\n",
        "        usuario = matriz_reconstruida[i, :]\n",
        "        indices_top_n = np.argsort(usuario)[-n:]\n",
        "        recomendaciones.append(indices_top_n)\n",
        "    \n",
        "    return recomendaciones\n",
        "\n",
        "#ejemplo de uso con n=2\n",
        "n = 2\n",
        "resultado = recomendaciones_svd(calificaciones, n)\n",
        "\n",
        "#imprimir los N primeros elementos recomendados para cada usuario\n",
        "for i, rec in enumerate(resultado):\n",
        "    print(f\"Usuario {i+1}: {rec}\")"
      ],
      "metadata": {
        "id": "wrGDHCts42rL",
        "colab": {
          "base_uri": "https://localhost:8080/"
        },
        "outputId": "7c69df7c-ad2b-4813-dc20-364179f7ec0c"
      },
      "execution_count": 8,
      "outputs": [
        {
          "output_type": "stream",
          "name": "stdout",
          "text": [
            "Usuario 1: [4 3]\n",
            "Usuario 2: [1 2]\n",
            "Usuario 3: [4 0]\n",
            "Usuario 4: [4 2]\n",
            "Usuario 5: [4 1]\n"
          ]
        }
      ]
    }
  ]
}